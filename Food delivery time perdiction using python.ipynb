{
 "cells": [
  {
   "cell_type": "code",
   "execution_count": 1,
   "id": "d71fec07",
   "metadata": {},
   "outputs": [
    {
     "name": "stdout",
     "output_type": "stream",
     "text": [
      "     ID Delivery_person_ID  Delivery_person_Age  Delivery_person_Ratings  \\\n",
      "0  4607     INDORES13DEL02                   37                      4.9   \n",
      "1  B379     BANGRES18DEL02                   34                      4.5   \n",
      "2  5D6D     BANGRES19DEL01                   23                      4.4   \n",
      "3  7A6A    COIMBRES13DEL02                   38                      4.7   \n",
      "4  70A2     CHENRES12DEL01                   32                      4.6   \n",
      "\n",
      "   Restaurant_latitude  Restaurant_longitude  Delivery_location_latitude  \\\n",
      "0            22.745049             75.892471                   22.765049   \n",
      "1            12.913041             77.683237                   13.043041   \n",
      "2            12.914264             77.678400                   12.924264   \n",
      "3            11.003669             76.976494                   11.053669   \n",
      "4            12.972793             80.249982                   13.012793   \n",
      "\n",
      "   Delivery_location_longitude Type_of_order Type_of_vehicle  Time_taken(min)  \n",
      "0                    75.912471        Snack      motorcycle                24  \n",
      "1                    77.813237        Snack         scooter                33  \n",
      "2                    77.688400       Drinks      motorcycle                26  \n",
      "3                    77.026494       Buffet      motorcycle                21  \n",
      "4                    80.289982        Snack         scooter                30  \n"
     ]
    }
   ],
   "source": [
    "import pandas as pd\n",
    "import numpy as np\n",
    "import plotly.express as px\n",
    "data = pd.read_csv('deliverytime[1].txt',encoding= 'unicode_escape')\n",
    "print(data.head())"
   ]
  },
  {
   "cell_type": "code",
   "execution_count": 2,
   "id": "7e5fcaf9",
   "metadata": {},
   "outputs": [
    {
     "name": "stdout",
     "output_type": "stream",
     "text": [
      "<class 'pandas.core.frame.DataFrame'>\n",
      "RangeIndex: 45593 entries, 0 to 45592\n",
      "Data columns (total 11 columns):\n",
      " #   Column                       Non-Null Count  Dtype  \n",
      "---  ------                       --------------  -----  \n",
      " 0   ID                           45593 non-null  object \n",
      " 1   Delivery_person_ID           45593 non-null  object \n",
      " 2   Delivery_person_Age          45593 non-null  int64  \n",
      " 3   Delivery_person_Ratings      45593 non-null  float64\n",
      " 4   Restaurant_latitude          45593 non-null  float64\n",
      " 5   Restaurant_longitude         45593 non-null  float64\n",
      " 6   Delivery_location_latitude   45593 non-null  float64\n",
      " 7   Delivery_location_longitude  45593 non-null  float64\n",
      " 8   Type_of_order                45593 non-null  object \n",
      " 9   Type_of_vehicle              45593 non-null  object \n",
      " 10  Time_taken(min)              45593 non-null  int64  \n",
      "dtypes: float64(5), int64(2), object(4)\n",
      "memory usage: 3.8+ MB\n"
     ]
    }
   ],
   "source": [
    "data.info()"
   ]
  },
  {
   "cell_type": "code",
   "execution_count": null,
   "id": "dcc10999",
   "metadata": {},
   "outputs": [],
   "source": [
    "# Set the earth's radius (in kilometers)\n",
    "R = 6371\n",
    "def deg_to_rad(degrees):\n",
    "    return degrees * (np.pi/180)\n",
    "def discalculator(lat1,lon1,lat2,lon2):\n",
    "    d_lat = deg_to_rad(lat2-lat1)\n",
    "    d_lon = deg_to_rad(lon2-lon1)\n",
    "    a = np.sin(d_lat/2)**2 + np.cos(deg_to_rad(lat1)) * np.cos(deg_to_rad(lat2)) * np.sin(d_lon/2)**2\n",
    "    c = 2 * np.arctan2(np.sqrt(a), np.sqrt(1-a))\n",
    "    return R * c   \n",
    "\n",
    "data['distance'] = np.nan\n",
    "\n",
    "for i in range(len(data)):\n",
    "    data.loc[i, 'distance'] = discalculator(data.loc[i, 'Restaurant_latitude'], \n",
    "                                        data.loc[i, 'Restaurant_longitude'], \n",
    "                                        data.loc[i, 'Delivery_location_latitude'], \n",
    "                                        data.loc[i, 'Delivery_location_longitude'])"
   ]
  },
  {
   "cell_type": "code",
   "execution_count": 3,
   "id": "992cc105",
   "metadata": {},
   "outputs": [
    {
     "name": "stdout",
     "output_type": "stream",
     "text": [
      "     ID Delivery_person_ID  Delivery_person_Age  Delivery_person_Ratings  \\\n",
      "0  4607     INDORES13DEL02                   37                      4.9   \n",
      "1  B379     BANGRES18DEL02                   34                      4.5   \n",
      "2  5D6D     BANGRES19DEL01                   23                      4.4   \n",
      "3  7A6A    COIMBRES13DEL02                   38                      4.7   \n",
      "4  70A2     CHENRES12DEL01                   32                      4.6   \n",
      "\n",
      "   Restaurant_latitude  Restaurant_longitude  Delivery_location_latitude  \\\n",
      "0            22.745049             75.892471                   22.765049   \n",
      "1            12.913041             77.683237                   13.043041   \n",
      "2            12.914264             77.678400                   12.924264   \n",
      "3            11.003669             76.976494                   11.053669   \n",
      "4            12.972793             80.249982                   13.012793   \n",
      "\n",
      "   Delivery_location_longitude Type_of_order Type_of_vehicle  Time_taken(min)  \n",
      "0                    75.912471        Snack      motorcycle                24  \n",
      "1                    77.813237        Snack         scooter                33  \n",
      "2                    77.688400       Drinks      motorcycle                26  \n",
      "3                    77.026494       Buffet      motorcycle                21  \n",
      "4                    80.289982        Snack         scooter                30  \n"
     ]
    }
   ],
   "source": [
    "print(data.head())"
   ]
  },
  {
   "cell_type": "code",
   "execution_count": null,
   "id": "7bb61098",
   "metadata": {},
   "outputs": [],
   "source": [
    "figure = px.scatter(data_frame = data, \n",
    "                    x=\"distance\",\n",
    "                    y=\"Time_taken(min)\", \n",
    "                    size=\"Time_taken(min)\", \n",
    "                    trendline=\"ols\", \n",
    "                    title = \"Relationship Between Distance and Time Taken\")\n",
    "figure.show()"
   ]
  }
 ],
 "metadata": {
  "kernelspec": {
   "display_name": "Python 3 (ipykernel)",
   "language": "python",
   "name": "python3"
  },
  "language_info": {
   "codemirror_mode": {
    "name": "ipython",
    "version": 3
   },
   "file_extension": ".py",
   "mimetype": "text/x-python",
   "name": "python",
   "nbconvert_exporter": "python",
   "pygments_lexer": "ipython3",
   "version": "3.9.13"
  }
 },
 "nbformat": 4,
 "nbformat_minor": 5
}
